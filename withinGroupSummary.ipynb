{
 "cells": [
  {
   "cell_type": "markdown",
   "metadata": {},
   "source": [
    "In this notebook, I use a fictional dataset to demonstrate a very common data manipulation problem I run into in Audit Analytics projects: given the weight factors across many groups, how to calculate the percentage weight for each members within a group. For example, in the following dataset, the column \"Contribution_Factor\" is used to allocate the department total Bonus: the total bonus for a department will be allocated to the employees in this department proportional to the employee's contribution factor. "
   ]
  },
  {
   "cell_type": "markdown",
   "metadata": {},
   "source": [
    "1. Import the two datasets (\"Salary\" and \"Bonus\" ) from Excel Sheets"
   ]
  },
  {
   "cell_type": "code",
   "execution_count": 1,
   "metadata": {},
   "outputs": [],
   "source": [
    "import pandas as pd"
   ]
  },
  {
   "cell_type": "code",
   "execution_count": 2,
   "metadata": {},
   "outputs": [
    {
     "data": {
      "text/html": [
       "<div>\n",
       "<style scoped>\n",
       "    .dataframe tbody tr th:only-of-type {\n",
       "        vertical-align: middle;\n",
       "    }\n",
       "\n",
       "    .dataframe tbody tr th {\n",
       "        vertical-align: top;\n",
       "    }\n",
       "\n",
       "    .dataframe thead th {\n",
       "        text-align: right;\n",
       "    }\n",
       "</style>\n",
       "<table border=\"1\" class=\"dataframe\">\n",
       "  <thead>\n",
       "    <tr style=\"text-align: right;\">\n",
       "      <th></th>\n",
       "      <th>Employee_ID</th>\n",
       "      <th>Department</th>\n",
       "      <th>Monthly_Base_Salary</th>\n",
       "      <th>Contribution_Factor</th>\n",
       "    </tr>\n",
       "  </thead>\n",
       "  <tbody>\n",
       "    <tr>\n",
       "      <th>0</th>\n",
       "      <td>E301</td>\n",
       "      <td>Finance</td>\n",
       "      <td>69612</td>\n",
       "      <td>50</td>\n",
       "    </tr>\n",
       "    <tr>\n",
       "      <th>1</th>\n",
       "      <td>E313</td>\n",
       "      <td>Finance</td>\n",
       "      <td>67716</td>\n",
       "      <td>101</td>\n",
       "    </tr>\n",
       "    <tr>\n",
       "      <th>2</th>\n",
       "      <td>E224</td>\n",
       "      <td>Finance</td>\n",
       "      <td>36132</td>\n",
       "      <td>59</td>\n",
       "    </tr>\n",
       "    <tr>\n",
       "      <th>3</th>\n",
       "      <td>E186</td>\n",
       "      <td>Finance</td>\n",
       "      <td>64092</td>\n",
       "      <td>103</td>\n",
       "    </tr>\n",
       "    <tr>\n",
       "      <th>4</th>\n",
       "      <td>E38</td>\n",
       "      <td>Finance</td>\n",
       "      <td>55428</td>\n",
       "      <td>67</td>\n",
       "    </tr>\n",
       "  </tbody>\n",
       "</table>\n",
       "</div>"
      ],
      "text/plain": [
       "  Employee_ID Department  Monthly_Base_Salary  Contribution_Factor\n",
       "0        E301    Finance                69612                   50\n",
       "1        E313    Finance                67716                  101\n",
       "2        E224    Finance                36132                   59\n",
       "3        E186    Finance                64092                  103\n",
       "4         E38    Finance                55428                   67"
      ]
     },
     "execution_count": 2,
     "metadata": {},
     "output_type": "execute_result"
    }
   ],
   "source": [
    "salary=pd.read_excel(\"Data.xlsx\",sheet_name=\"Salary\")\n",
    "salary.head()"
   ]
  },
  {
   "cell_type": "code",
   "execution_count": 3,
   "metadata": {},
   "outputs": [
    {
     "data": {
      "text/html": [
       "<div>\n",
       "<style scoped>\n",
       "    .dataframe tbody tr th:only-of-type {\n",
       "        vertical-align: middle;\n",
       "    }\n",
       "\n",
       "    .dataframe tbody tr th {\n",
       "        vertical-align: top;\n",
       "    }\n",
       "\n",
       "    .dataframe thead th {\n",
       "        text-align: right;\n",
       "    }\n",
       "</style>\n",
       "<table border=\"1\" class=\"dataframe\">\n",
       "  <thead>\n",
       "    <tr style=\"text-align: right;\">\n",
       "      <th></th>\n",
       "      <th>Department</th>\n",
       "      <th>Bonus_Sum</th>\n",
       "    </tr>\n",
       "  </thead>\n",
       "  <tbody>\n",
       "    <tr>\n",
       "      <th>0</th>\n",
       "      <td>Finance</td>\n",
       "      <td>300000</td>\n",
       "    </tr>\n",
       "    <tr>\n",
       "      <th>1</th>\n",
       "      <td>Management</td>\n",
       "      <td>510000</td>\n",
       "    </tr>\n",
       "    <tr>\n",
       "      <th>2</th>\n",
       "      <td>Administration</td>\n",
       "      <td>100000</td>\n",
       "    </tr>\n",
       "    <tr>\n",
       "      <th>3</th>\n",
       "      <td>Production</td>\n",
       "      <td>453000</td>\n",
       "    </tr>\n",
       "    <tr>\n",
       "      <th>4</th>\n",
       "      <td>After_Sales Service</td>\n",
       "      <td>506600</td>\n",
       "    </tr>\n",
       "  </tbody>\n",
       "</table>\n",
       "</div>"
      ],
      "text/plain": [
       "            Department  Bonus_Sum\n",
       "0              Finance     300000\n",
       "1           Management     510000\n",
       "2       Administration     100000\n",
       "3           Production     453000\n",
       "4  After_Sales Service     506600"
      ]
     },
     "execution_count": 3,
     "metadata": {},
     "output_type": "execute_result"
    }
   ],
   "source": [
    "bonus=pd.read_excel(\"Data.xlsx\",sheet_name=\"Bonus\")\n",
    "bonus.head()"
   ]
  },
  {
   "cell_type": "markdown",
   "metadata": {},
   "source": [
    "2. Merge the two dataset on the common column \"department\""
   ]
  },
  {
   "cell_type": "code",
   "execution_count": 11,
   "metadata": {},
   "outputs": [
    {
     "data": {
      "text/html": [
       "<div>\n",
       "<style scoped>\n",
       "    .dataframe tbody tr th:only-of-type {\n",
       "        vertical-align: middle;\n",
       "    }\n",
       "\n",
       "    .dataframe tbody tr th {\n",
       "        vertical-align: top;\n",
       "    }\n",
       "\n",
       "    .dataframe thead th {\n",
       "        text-align: right;\n",
       "    }\n",
       "</style>\n",
       "<table border=\"1\" class=\"dataframe\">\n",
       "  <thead>\n",
       "    <tr style=\"text-align: right;\">\n",
       "      <th></th>\n",
       "      <th>Employee_ID</th>\n",
       "      <th>Department</th>\n",
       "      <th>Monthly_Base_Salary</th>\n",
       "      <th>Contribution_Factor</th>\n",
       "      <th>Bonus_Sum</th>\n",
       "    </tr>\n",
       "  </thead>\n",
       "  <tbody>\n",
       "    <tr>\n",
       "      <th>0</th>\n",
       "      <td>E301</td>\n",
       "      <td>Finance</td>\n",
       "      <td>69612</td>\n",
       "      <td>50</td>\n",
       "      <td>300000</td>\n",
       "    </tr>\n",
       "    <tr>\n",
       "      <th>1</th>\n",
       "      <td>E313</td>\n",
       "      <td>Finance</td>\n",
       "      <td>67716</td>\n",
       "      <td>101</td>\n",
       "      <td>300000</td>\n",
       "    </tr>\n",
       "    <tr>\n",
       "      <th>2</th>\n",
       "      <td>E224</td>\n",
       "      <td>Finance</td>\n",
       "      <td>36132</td>\n",
       "      <td>59</td>\n",
       "      <td>300000</td>\n",
       "    </tr>\n",
       "    <tr>\n",
       "      <th>3</th>\n",
       "      <td>E186</td>\n",
       "      <td>Finance</td>\n",
       "      <td>64092</td>\n",
       "      <td>103</td>\n",
       "      <td>300000</td>\n",
       "    </tr>\n",
       "    <tr>\n",
       "      <th>4</th>\n",
       "      <td>E38</td>\n",
       "      <td>Finance</td>\n",
       "      <td>55428</td>\n",
       "      <td>67</td>\n",
       "      <td>300000</td>\n",
       "    </tr>\n",
       "  </tbody>\n",
       "</table>\n",
       "</div>"
      ],
      "text/plain": [
       "  Employee_ID Department  Monthly_Base_Salary  Contribution_Factor  Bonus_Sum\n",
       "0        E301    Finance                69612                   50     300000\n",
       "1        E313    Finance                67716                  101     300000\n",
       "2        E224    Finance                36132                   59     300000\n",
       "3        E186    Finance                64092                  103     300000\n",
       "4         E38    Finance                55428                   67     300000"
      ]
     },
     "execution_count": 11,
     "metadata": {},
     "output_type": "execute_result"
    }
   ],
   "source": [
    "salary_bonus=pd.merge(salary,bonus,how=\"inner\",on=\"Department\")\n",
    "salary_bonus.head()"
   ]
  },
  {
   "cell_type": "markdown",
   "metadata": {},
   "source": [
    "3. Calculate the Percentage weight for each employee within each group and allocate the department wide bonus to employees according to the Percentage weight.\n",
    "\n",
    "In calculating the percentage weight of each employee within a group, I first use groupby with the first level of indices of the dataframe to split the dataset into 6 groups (departments) and then apply the transformation function \"sum\" on each members of the group. It is important to note that the function transform return an output with the same shape as the input. This is the key for the allocation method. "
   ]
  },
  {
   "cell_type": "code",
   "execution_count": 12,
   "metadata": {},
   "outputs": [
    {
     "data": {
      "text/html": [
       "<div>\n",
       "<style scoped>\n",
       "    .dataframe tbody tr th:only-of-type {\n",
       "        vertical-align: middle;\n",
       "    }\n",
       "\n",
       "    .dataframe tbody tr th {\n",
       "        vertical-align: top;\n",
       "    }\n",
       "\n",
       "    .dataframe thead th {\n",
       "        text-align: right;\n",
       "    }\n",
       "</style>\n",
       "<table border=\"1\" class=\"dataframe\">\n",
       "  <thead>\n",
       "    <tr style=\"text-align: right;\">\n",
       "      <th></th>\n",
       "      <th>Employee_ID</th>\n",
       "      <th>Monthly_Base_Salary</th>\n",
       "      <th>Contribution_Factor</th>\n",
       "      <th>Bonus_Sum</th>\n",
       "      <th>share</th>\n",
       "      <th>salary_with_bonus</th>\n",
       "    </tr>\n",
       "    <tr>\n",
       "      <th>Department</th>\n",
       "      <th></th>\n",
       "      <th></th>\n",
       "      <th></th>\n",
       "      <th></th>\n",
       "      <th></th>\n",
       "      <th></th>\n",
       "    </tr>\n",
       "  </thead>\n",
       "  <tbody>\n",
       "    <tr>\n",
       "      <th>Finance</th>\n",
       "      <td>E301</td>\n",
       "      <td>69612</td>\n",
       "      <td>50</td>\n",
       "      <td>300000</td>\n",
       "      <td>0.013543</td>\n",
       "      <td>73674.838570</td>\n",
       "    </tr>\n",
       "    <tr>\n",
       "      <th>Finance</th>\n",
       "      <td>E313</td>\n",
       "      <td>67716</td>\n",
       "      <td>101</td>\n",
       "      <td>300000</td>\n",
       "      <td>0.027356</td>\n",
       "      <td>75922.933911</td>\n",
       "    </tr>\n",
       "    <tr>\n",
       "      <th>Finance</th>\n",
       "      <td>E224</td>\n",
       "      <td>36132</td>\n",
       "      <td>59</td>\n",
       "      <td>300000</td>\n",
       "      <td>0.015980</td>\n",
       "      <td>40926.149512</td>\n",
       "    </tr>\n",
       "    <tr>\n",
       "      <th>Finance</th>\n",
       "      <td>E186</td>\n",
       "      <td>64092</td>\n",
       "      <td>103</td>\n",
       "      <td>300000</td>\n",
       "      <td>0.027898</td>\n",
       "      <td>72461.447454</td>\n",
       "    </tr>\n",
       "    <tr>\n",
       "      <th>Finance</th>\n",
       "      <td>E38</td>\n",
       "      <td>55428</td>\n",
       "      <td>67</td>\n",
       "      <td>300000</td>\n",
       "      <td>0.018147</td>\n",
       "      <td>60872.203684</td>\n",
       "    </tr>\n",
       "  </tbody>\n",
       "</table>\n",
       "</div>"
      ],
      "text/plain": [
       "           Employee_ID  Monthly_Base_Salary  Contribution_Factor  Bonus_Sum  \\\n",
       "Department                                                                    \n",
       "Finance           E301                69612                   50     300000   \n",
       "Finance           E313                67716                  101     300000   \n",
       "Finance           E224                36132                   59     300000   \n",
       "Finance           E186                64092                  103     300000   \n",
       "Finance            E38                55428                   67     300000   \n",
       "\n",
       "               share  salary_with_bonus  \n",
       "Department                               \n",
       "Finance     0.013543       73674.838570  \n",
       "Finance     0.027356       75922.933911  \n",
       "Finance     0.015980       40926.149512  \n",
       "Finance     0.027898       72461.447454  \n",
       "Finance     0.018147       60872.203684  "
      ]
     },
     "execution_count": 12,
     "metadata": {},
     "output_type": "execute_result"
    }
   ],
   "source": [
    "\n",
    "salary_bonus.set_index('Department',inplace=True)\n",
    "\n",
    "salary_bonus.loc[:,\"share\"]=salary_bonus.loc[:,\"Contribution_Factor\"]/salary_bonus.groupby(level=0)[\"Contribution_Factor\"].transform(sum)\n",
    "\n",
    "salary_bonus.loc[:,\"salary_with_bonus\"]=salary_bonus.loc[:,\"Monthly_Base_Salary\"]+salary_bonus.loc[:,\"Bonus_Sum\"]*salary_bonus.loc[:,\"share\"]\n",
    "\n",
    "salary_bonus.head(5)\n"
   ]
  },
  {
   "cell_type": "markdown",
   "metadata": {},
   "source": [
    "4. Test the allocation result"
   ]
  },
  {
   "cell_type": "code",
   "execution_count": 13,
   "metadata": {},
   "outputs": [
    {
     "data": {
      "text/plain": [
       "Department\n",
       "Administration         1.0\n",
       "After_Sales Service    1.0\n",
       "Finance                1.0\n",
       "Management             1.0\n",
       "Marketing              1.0\n",
       "Production             1.0\n",
       "Name: share, dtype: float64"
      ]
     },
     "execution_count": 13,
     "metadata": {},
     "output_type": "execute_result"
    }
   ],
   "source": [
    "salary_bonus.groupby(level=0)[\"share\"].sum()"
   ]
  },
  {
   "cell_type": "code",
   "execution_count": 16,
   "metadata": {},
   "outputs": [
    {
     "data": {
      "text/plain": [
       "Department\n",
       "Administration          3641\n",
       "After_Sales Service    11286\n",
       "Finance                 3692\n",
       "Management              3899\n",
       "Marketing               3776\n",
       "Production             11578\n",
       "Name: Contribution_Factor, dtype: int64"
      ]
     },
     "execution_count": 16,
     "metadata": {},
     "output_type": "execute_result"
    }
   ],
   "source": [
    "salary_bonus.groupby(level=0)[\"Contribution_Factor\"].sum()"
   ]
  },
  {
   "cell_type": "code",
   "execution_count": 17,
   "metadata": {},
   "outputs": [
    {
     "data": {
      "text/plain": [
       "Department\n",
       "Finance        3692.0\n",
       "Finance        3692.0\n",
       "Finance        3692.0\n",
       "Finance        3692.0\n",
       "Finance        3692.0\n",
       "               ...   \n",
       "Production    11578.0\n",
       "Production    11578.0\n",
       "Production    11578.0\n",
       "Production    11578.0\n",
       "Production    11578.0\n",
       "Length: 501, dtype: float64"
      ]
     },
     "execution_count": 17,
     "metadata": {},
     "output_type": "execute_result"
    }
   ],
   "source": [
    "salary_bonus[\"Contribution_Factor\"]/salary_bonus[\"share\"]\n"
   ]
  },
  {
   "cell_type": "code",
   "execution_count": null,
   "metadata": {},
   "outputs": [],
   "source": []
  }
 ],
 "metadata": {
  "interpreter": {
   "hash": "2135365e00268d88a4b03724af96ae81d2794529707330a155d42a3708962de8"
  },
  "kernelspec": {
   "display_name": "Python 3.7.11 ('base')",
   "language": "python",
   "name": "python3"
  },
  "language_info": {
   "codemirror_mode": {
    "name": "ipython",
    "version": 3
   },
   "file_extension": ".py",
   "mimetype": "text/x-python",
   "name": "python",
   "nbconvert_exporter": "python",
   "pygments_lexer": "ipython3",
   "version": "3.7.11"
  },
  "orig_nbformat": 4
 },
 "nbformat": 4,
 "nbformat_minor": 2
}
